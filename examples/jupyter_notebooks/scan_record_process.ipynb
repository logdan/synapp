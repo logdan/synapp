{
 "cells": [
  {
   "cell_type": "markdown",
   "metadata": {},
   "source": [
    "# Scan, Record, & Process\n",
    "\n",
    "This notebook is a demonstration of SynApp's capabilities. As a whole, it will allow you to scan for and connect to a wireless EEG device, record data from it, and analyze the data. It is presented in 3 parts. Any part can be done independently, or resumed later, although doing it all the way through will retain the data from the previous stages."
   ]
  },
  {
   "cell_type": "markdown",
   "metadata": {},
   "source": [
    "## Section 1: Connect to your device\n",
    "\n",
    "In this section, we'll use SynApp's Device and DeviceScanner classes to find and communicate with a device. This example will use a Muse (2016 model). Note that all devices share the same interface - as long as you specify which you're using, all Devices will be interacted with the same way to connect and store data.\n",
    "\n",
    "If you implement a new Device, you will be able to use any code that refers to existing Devices with it.\n",
    "\n",
    "### Connecting\n",
    "First, let's open a scan for a device."
   ]
  },
  {
   "cell_type": "code",
   "execution_count": null,
   "metadata": {},
   "outputs": [],
   "source": [
    "# Imports for Section 1\n",
    "import os\n",
    "\n",
    "from synapp.core.devices.device import Device\n",
    "from synapp.core.devices.device_scanner import DeviceScannerFactory, DeviceType\n",
    "from synapp.core.logging import logger\n",
    "from synapp.utilities.file_utilities import join_from_repo_root"
   ]
  },
  {
   "cell_type": "code",
   "execution_count": null,
   "metadata": {},
   "outputs": [],
   "source": [
    "# Perform a scan for devices. Turn your device on for this step\n",
    "logger.info(\"Scanning devices\")\n",
    "device_type = DeviceType.muse\n",
    "devices = DeviceScannerFactory.create(device_type).scan_for_devices()\n",
    "if devices:\n",
    "    device_printout = '\\n'.join(str(device) for device in devices)\n",
    "    logger.info(f\"Found devices: {device_printout}\")\n",
    "else:\n",
    "    logger.warning(\"No devices found.\")"
   ]
  },
  {
   "cell_type": "code",
   "execution_count": null,
   "metadata": {},
   "outputs": [],
   "source": [
    "# Store that device so we can reference it later without a scan.\n",
    "\n",
    "# If you'd like to use a custom \"data\" directory, do it here. Otherwise, we'll use the\n",
    "# \"user_data\" folder, which will be ignored by git.\n",
    "\n",
    "destination = join_from_repo_root(\"user_data\")\n",
    "os.makedirs(destination, exist_ok=True)\n",
    "\n",
    "# Serialize the Device objects to files\n",
    "for device in devices:\n",
    "    file_path = device.save(destination)\n",
    "    logger.info(f\"Device '{device.name}' information saved to {file_path}\")"
   ]
  },
  {
   "cell_type": "markdown",
   "metadata": {},
   "source": [
    "We should now have found our device and saved it to disk. We'll load that saved file in the next section as an example. This will allow us to reconnect\n",
    "to previously used devices easily."
   ]
  },
  {
   "cell_type": "markdown",
   "metadata": {},
   "source": [
    "## Section 2: Streaming and Recording Data\n",
    "This is a simple example of using a Device object to stream data. In this example, we'll record 60 seconds of data from the Muse headset.\n",
    "\n",
    "If you're running this section sequentially, we will use the device found in the previous section. Otherwise, we'll load device\n",
    "information from a .pkl file."
   ]
  },
  {
   "cell_type": "code",
   "execution_count": null,
   "metadata": {},
   "outputs": [],
   "source": [
    "# Imports (or re-imports) for Section 2\n",
    "import os\n",
    "from synapp.core.devices.device import Device\n",
    "from synapp.core.logging import logger\n",
    "from synapp.utilities.file_utilities import join_from_repo_root\n",
    "import nest_asyncio\n",
    "\n",
    "# This allows the recording to be done from jupyter\n",
    "nest_asyncio.apply()"
   ]
  },
  {
   "cell_type": "code",
   "execution_count": null,
   "metadata": {},
   "outputs": [],
   "source": [
    "# Use data from Section 1, or load from file\n",
    "if 'device' not in locals():\n",
    "    device = Device.load(join_from_repo_root('user_data/muse-d386.pkl'))  # Replace 'muse-d386.pkl' with whatever your device is saved as\n",
    "\n",
    "if 'destination' not in locals():\n",
    "    destination = join_from_repo_root(\"user_data\")\n",
    "    \n",
    "os.makedirs(destination, exist_ok=True)\n",
    "\n",
    "# Set up a recording for 60 seconds\n",
    "recording_folder = device.record(folder=destination, recording_time=60, block=True, notes=\"This is an example recording\")\n"
   ]
  },
  {
   "cell_type": "markdown",
   "metadata": {},
   "source": [
    "## Section 3: Analyzing the data\n",
    "\n",
    "So far, we've interacted mostly with the device object. Now, we can take advantage of SynApp's filtering and plotting components to analyze our recorded data."
   ]
  },
  {
   "cell_type": "code",
   "execution_count": null,
   "metadata": {},
   "outputs": [],
   "source": [
    "# Imports for Section 3\n",
    "import os\n",
    "\n",
    "import pandas as pd\n",
    "\n",
    "from synapp.core.plotting import plot_timeseries_dataframe\n",
    "from synapp.core.filtering import bandpass_notch_filter_dataframe\n",
    "from synapp.utilities.file_utilities import join_from_repo_root"
   ]
  },
  {
   "cell_type": "code",
   "execution_count": null,
   "metadata": {},
   "outputs": [],
   "source": [
    "# Use previous data, or edit to load your data here\n",
    "if 'recording_folder' not in locals():\n",
    "    recording_folder = join_from_repo_root('example_data/2024_01_18_00_49_28_muse-d386')\n",
    "\n",
    "logger.info(f\"Using data from {recording_folder}\")\n",
    "\n",
    "dataframe = pd.read_pickle(os.path.join(recording_folder, 'data.pkl'))\n",
    "\n",
    "plot_timeseries_dataframe(dataframe, sample_rate=256, title=\"Short recording while moving\", plot_fft=True)"
   ]
  },
  {
   "cell_type": "markdown",
   "metadata": {},
   "source": [
    "If you're like me, or using the example data, you might notice that the signal does not look very good.\n",
    "\n",
    "The low-level noise and the power-line noise are completely overwhelming the signal.\n",
    "\n",
    "Let's use the filtering tools available to filter them out."
   ]
  },
  {
   "cell_type": "code",
   "execution_count": null,
   "metadata": {},
   "outputs": [],
   "source": [
    "# Let's use the defaults for now, which are already tuned for EEG data.\n",
    "\n",
    "filtered_dataframe = bandpass_notch_filter_dataframe(dataframe)\n",
    "plot_timeseries_dataframe(filtered_dataframe, sample_rate=256, title=\"Filtered recording\", plot_fft=True)"
   ]
  },
  {
   "cell_type": "markdown",
   "metadata": {},
   "source": [
    "### Summary\n",
    "So far, we've been able to connect a device to the system, store a reference to it, quickly and easily set it up for recording, and plot filtered data. We see good frequency distribution in the 1-30Hz range, and the recording staying between -40 to 40mv is a sign of a usable recording. We can continue to evaluate the device for signal quality."
   ]
  },
  {
   "cell_type": "markdown",
   "metadata": {},
   "source": [
    "#### Further Capabilities:\n",
    "- Average data over epochs and trials\n",
    "- Train a neural net on trials and evaluate its efficacy\n",
    "- Use real-time data with a neural net to control your computer"
   ]
  }
 ],
 "metadata": {
  "kernelspec": {
   "display_name": "synapp-tcdwnw15-py3.11",
   "language": "python",
   "name": "python3"
  },
  "language_info": {
   "codemirror_mode": {
    "name": "ipython",
    "version": 3
   },
   "file_extension": ".py",
   "mimetype": "text/x-python",
   "name": "python",
   "nbconvert_exporter": "python",
   "pygments_lexer": "ipython3",
   "version": "3.11.6"
  }
 },
 "nbformat": 4,
 "nbformat_minor": 2
}
